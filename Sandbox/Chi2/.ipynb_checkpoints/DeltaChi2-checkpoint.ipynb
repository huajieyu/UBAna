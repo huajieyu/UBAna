{
 "cells": [
  {
   "cell_type": "code",
   "execution_count": 1,
   "metadata": {
    "collapsed": true
   },
   "outputs": [],
   "source": [
    "import matplotlib.pyplot as plt\n",
    "import numpy as np\n",
    "import matplotlib.mlab as mlab\n",
    "import math\n",
    "# plt.style.use('seaborn')"
   ]
  },
  {
   "cell_type": "code",
   "execution_count": 2,
   "metadata": {
    "collapsed": true
   },
   "outputs": [],
   "source": [
    "def fill_below_intersection(x, S, Z):\n",
    "    \"\"\"\n",
    "    fill the region below the intersection of S and Z\n",
    "    \"\"\"\n",
    "    #find the intersection point\n",
    "    ind = nx.nonzero( nx.absolute(S-Z)==min(nx.absolute(S-Z)))[0]\n",
    "    # compute a new curve which we will fill below\n",
    "    Y = nx.zeros(S.shape, typecode=nx.Float)\n",
    "    Y[:ind] = S[:ind]  # Y is S up to the intersection\n",
    "    Y[ind:] = Z[ind:]  # and Z beyond it\n",
    "    p.fill(x, Y, facecolor='blue', alpha=0.5)"
   ]
  },
  {
   "cell_type": "code",
   "execution_count": 18,
   "metadata": {
    "scrolled": false
   },
   "outputs": [
    {
     "name": "stdout",
     "output_type": "stream",
     "text": [
      "sigma Tune1 = 11.2014998996\n",
      "sigma Tune3 = 11.1182552588\n"
     ]
    }
   ],
   "source": [
    "fig = plt.figure(figsize=(12,8),facecolor='w')\n",
    "\n",
    "plt.tick_params(labelsize=20)\n",
    "# plt.grid()\n",
    "plt.ylabel('',fontsize=20,fontweight='bold')\n",
    "plt.xlabel('$\\Delta\\chi^2 = \\chi^2_{(alt.)} - \\chi^2_{(def.)}$',fontsize=20,fontweight='bold')\n",
    "\n",
    "mu = 31.3684\n",
    "sigma = 2 * math.sqrt(abs(mu))\n",
    "print 'sigma Tune1 =', sigma\n",
    "x = np.linspace(mu - 10*sigma, mu + 18*sigma, 500)\n",
    "y_1 = mlab.normpdf(x, mu, sigma)\n",
    "plt.plot(x, y_1, label='GENIE Default + Emp. MEC')\n",
    "\n",
    "\n",
    "mu = -30.9039\n",
    "sigma = 2 * math.sqrt(abs(mu))\n",
    "print 'sigma Tune3 =', sigma\n",
    "x = np.linspace(mu - 7*sigma, mu + 12*sigma, 500)\n",
    "y_3 = mlab.normpdf(x, mu, sigma)\n",
    "plt.plot(x, y_3, label='GENIE Alternative')\n",
    "\n",
    "delta_chi2 = 209.075 - 245.907\n",
    "plt.axvline(x = delta_chi2, color='g', label='Measured $\\Delta\\chi^2$ = {}'.format(delta_chi2))\n",
    "\n",
    "# plt.fill_between(x, 0, y_3, where = (x < -36.4), color = 'gray', alpha=0.5)\n",
    "# plt.fill_between(x, 0, y_3, where = (x > -26), color = 'gray', alpha=0.5)\n",
    "\n",
    "# plt.fill_between(x, 0, y_1, where = (x < -36.4), color = 'gray', alpha=0.5)\n",
    "# plt.fill_between(x, 0, y_1, where = (x > -26), color = 'gray', alpha=0.5)\n",
    "\n",
    "leg=plt.legend(fontsize=20,loc=1)\n",
    "leg_frame=leg.get_frame()\n",
    "leg_frame.set_facecolor('white')\n",
    "# plt.show()\n",
    "\n",
    "plt.savefig('chi2.pdf')"
   ]
  },
  {
   "cell_type": "markdown",
   "metadata": {},
   "source": [
    "# Probability of Rejecting Tune1\n",
    "Given Tune1 being the Null hypothesis, the p-value is 1.49e-5. This is calculated as the integral of the Tune1 Gaussian above between -infinite and -36.832.\n",
    "\n",
    "(1 - p-value) is 99.9985%. In Gaussian stds, this is more than 4 sigmas, and less than 4.5 sigmas.\n",
    "\n",
    "\n",
    "# Probability of Rejecting Tune3\n",
    "\n",
    "Given Tune3 being the Null hypothesis, the p-value is 0.70. This is calculated as the integral of the Tune3 Gaussian above between -36.832 and +infinite.\n",
    "\n",
    "\n",
    "(1 - p-value) is 30%. In Gaussian stds, this is less than 1 sigma.\n",
    "\n",
    "https://www.wolframalpha.com/input/?i=integral+exp(-(x+-+31.3684)%5E2+%2F+(2*+11.2015)%5E2+)+%2F(sqrt(2*3.1415)+*+11.2015)+from+-infinite+to+-36"
   ]
  },
  {
   "cell_type": "code",
   "execution_count": null,
   "metadata": {},
   "outputs": [],
   "source": [
    "2*5.55913"
   ]
  },
  {
   "cell_type": "code",
   "execution_count": null,
   "metadata": {},
   "outputs": [],
   "source": [
    " 2*5.60075"
   ]
  },
  {
   "cell_type": "code",
   "execution_count": null,
   "metadata": {
    "collapsed": true
   },
   "outputs": [],
   "source": []
  }
 ],
 "metadata": {
  "kernelspec": {
   "display_name": "Python 2",
   "language": "python",
   "name": "python2"
  },
  "language_info": {
   "codemirror_mode": {
    "name": "ipython",
    "version": 2
   },
   "file_extension": ".py",
   "mimetype": "text/x-python",
   "name": "python",
   "nbconvert_exporter": "python",
   "pygments_lexer": "ipython2",
   "version": "2.7.10"
  }
 },
 "nbformat": 4,
 "nbformat_minor": 2
}
