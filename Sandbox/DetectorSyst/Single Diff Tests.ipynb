{
 "cells": [
  {
   "cell_type": "code",
   "execution_count": 1,
   "metadata": {
    "collapsed": true
   },
   "outputs": [],
   "source": [
    "import uproot\n",
    "import matplotlib.pyplot as plt \n",
    "import numpy as np"
   ]
  },
  {
   "cell_type": "code",
   "execution_count": 2,
   "metadata": {},
   "outputs": [
    {
     "name": "stdout",
     "output_type": "stream",
     "text": [
      "Untitled.ipynb                        xsec_file_birksrecomb.root\r\n",
      "bins_01_22.pdf                        xsec_file_dataSCE.root\r\n",
      "bins_24_40.pdf                        xsec_file_deadSaturatedChannels.root\r\n",
      "covariance_detector.root              xsec_file_downPEnoise.root\r\n",
      "make_det_cov_matrix.py                xsec_file_enhancedexttpcvis.root\r\n",
      "xsec_file_CV.root                     xsec_file_lifetime10ms.root\r\n",
      "xsec_file_DLdown.root                 xsec_file_noiseAmpDown.root\r\n",
      "xsec_file_DLup.root                   xsec_file_noiseAmpUp.root\r\n",
      "xsec_file_DTdown.root                 xsec_file_squeezeResp.root\r\n",
      "xsec_file_DTup.root                   xsec_file_stretchResp.root\r\n",
      "xsec_file_LArG4BugFix.root            xsec_file_upPEnoise.root\r\n",
      "xsec_file_altDeadChannels.root        xsec_file_withDIC.root\r\n"
     ]
    }
   ],
   "source": [
    "%ls"
   ]
  },
  {
   "cell_type": "code",
   "execution_count": 3,
   "metadata": {},
   "outputs": [
    {
     "data": {
      "text/plain": [
       "['xsec_onebin_CV;1',\n",
       " 'smearing_matrix_mumom_CV;1',\n",
       " 'xsec_mumom_CV;1',\n",
       " 'xsec_mumom_mc_CV;1',\n",
       " 'frac_covariance_matrix_mumom_CV;1',\n",
       " 'smearing_matrix_muangle_CV;1',\n",
       " 'xsec_muangle_CV;1',\n",
       " 'xsec_muangle_mc_CV;1',\n",
       " 'frac_covariance_matrix_muangle_CV;1',\n",
       " 'xsec_muangle_mumom_CV;1',\n",
       " 'xsec_muangle_mumom_mc_CV;1',\n",
       " 'frac_covariance_matrix_muangle_mumom_CV;1',\n",
       " 'smearing_matrix_muangle_mumom_poly_CV;1',\n",
       " 'xsec_poly_muangle_mumom_CV;1',\n",
       " 'xsec_poly_muangle_mumom_mc_CV;1',\n",
       " 'covariance_matrix_poly_muangle_mumom_CV;1',\n",
       " 'xsec_poly_muangle_mumom_CV_bin_0;1',\n",
       " 'xsec_poly_muangle_mumom_CV_bin_1;1',\n",
       " 'xsec_poly_muangle_mumom_CV_bin_2;1',\n",
       " 'xsec_poly_muangle_mumom_CV_bin_3;1',\n",
       " 'xsec_poly_muangle_mumom_CV_bin_4;1',\n",
       " 'xsec_poly_muangle_mumom_CV_bin_5;1',\n",
       " 'xsec_poly_muangle_mumom_CV_bin_6;1',\n",
       " 'xsec_poly_muangle_mumom_CV_bin_7;1',\n",
       " 'xsec_poly_muangle_mumom_CV_bin_8;1']"
      ]
     },
     "execution_count": 3,
     "metadata": {},
     "output_type": "execute_result"
    }
   ],
   "source": [
    "f_cv = uproot.rootio.open('xsec_file_CV.root')\n",
    "f_DLdown = uproot.rootio.open('xsec_file_DLdown.root')\n",
    "\n",
    "f_cv.keys()"
   ]
  },
  {
   "cell_type": "code",
   "execution_count": 5,
   "metadata": {},
   "outputs": [
    {
     "data": {
      "text/plain": [
       "array([  3.77497527e-04,   2.40314152e-03,   1.50072759e-03,\n",
       "         3.15890627e-04,   8.27042682e-05,   5.84974596e-06])"
      ]
     },
     "execution_count": 5,
     "metadata": {},
     "output_type": "execute_result"
    }
   ],
   "source": [
    "h_cv = f_cv['xsec_mumom_CV']\n",
    "h_DLdown = f_DLdown['xsec_mumom_DLdown']\n",
    "\n",
    "bins = h_cv.edges\n",
    "a = 0.5*(bins[1:] + bins[:-1]) # midpoints of bins\n",
    "\n",
    "h_cv.variances"
   ]
  },
  {
   "cell_type": "code",
   "execution_count": 7,
   "metadata": {},
   "outputs": [
    {
     "data": {
      "image/png": "[encoded data removed]",
      "text/plain": [
       "<matplotlib.figure.Figure at 0x107c8dcd0>"
      ]
     },
     "metadata": {},
     "output_type": "display_data"
    }
   ],
   "source": [
    "fig = plt.figure(figsize=(12,8),facecolor='w')\n",
    "plt.tick_params(labelsize=20)\n",
    "\n",
    "n, bins, patches = plt.hist(a, bins=h_cv.edges, weights=h_cv.values, density=True, alpha=0.5, label='CV', histtype='step')\n",
    "plt.errorbar(a, n, yerr=np.sqrt(h_cv.variances), fmt='none')\n",
    "\n",
    "n, bins, patches = plt.hist(a, bins=h_DLdown.edges, weights=h_DLdown.values, density=True, alpha=0.5, label='DLdown', histtype='step')\n",
    "plt.errorbar(a, n, yerr=np.sqrt(h_DLdown.variances), fmt='none')\n",
    "\n",
    "\n",
    "plt.xlabel('$\\\\Delta\\\\chi^2 = \\\\chi^2_{(alt.)} - \\\\chi^2_{(def.)}$',fontsize=20,fontweight='bold')\n",
    "plt.ylabel('Probability',fontsize=20,fontweight='bold')\n",
    "plt.title('Histogram of IQ')\n",
    "leg=plt.legend(fontsize=20,loc=1)\n",
    "# plt.text(60, .025, r'$\\mu=100,\\ \\sigma=15$')\n",
    "# plt.axis([40, 160, 0, 0.03])\n",
    "# plt.grid(True)\n",
    "plt.show()"
   ]
  },
  {
   "cell_type": "code",
   "execution_count": null,
   "metadata": {},
   "outputs": [],
   "source": [
    "fig, (ax1, ax2) = plt.subplots(figsize=(12,8), nrows=2)\n",
    "\n",
    "# fig = plt.figure(figsize=(12,8),facecolor='w')\n",
    "plt.tick_params(labelsize=20)\n",
    "\n",
    "n_CV, bins, patches_CV = ax1.hist(a, bins=h_cv.edges, weights=h_cv.values, density=True, alpha=0.5, label='CV', histtype='step')\n",
    "n_DLdown, bins, patches_DLdown = ax1.hist(a, bins=h_DLdown.edges, weights=h_DLdown.values, density=True, alpha=0.5, label='DLdown', histtype='step')\n",
    "\n",
    "plt.xlabel('$\\\\Delta\\\\chi^2 = \\\\chi^2_{(alt.)} - \\\\chi^2_{(def.)}$',fontsize=20,fontweight='bold')\n",
    "plt.ylabel('Probability',fontsize=20,fontweight='bold')\n",
    "plt.title('Histogram of IQ')\n",
    "leg=plt.legend(fontsize=20,loc=1)\n",
    "# plt.text(60, .025, r'$\\mu=100,\\ \\sigma=15$')\n",
    "# plt.axis([40, 160, 0, 0.03])\n",
    "# plt.grid(True)\n",
    "\n",
    "n, bins, patches = ax2.hist(a, bins=h_cv.edges, weights=n_CV / n_DLdown, density=True, alpha=0.5, label='CV')\n",
    "\n",
    "plt.show()"
   ]
  },
  {
   "cell_type": "code",
   "execution_count": null,
   "metadata": {},
   "outputs": [],
   "source": [
    "0.5*(bins[1:] + bins[:-1])"
   ]
  },
  {
   "cell_type": "code",
   "execution_count": null,
   "metadata": {},
   "outputs": [],
   "source": []
  },
  {
   "cell_type": "code",
   "execution_count": null,
   "metadata": {
    "collapsed": true
   },
   "outputs": [],
   "source": []
  }
 ],
 "metadata": {
  "kernelspec": {
   "display_name": "Python 2",
   "language": "python",
   "name": "python2"
  },
  "language_info": {
   "codemirror_mode": {
    "name": "ipython",
    "version": 2
   },
   "file_extension": ".py",
   "mimetype": "text/x-python",
   "name": "python",
   "nbconvert_exporter": "python",
   "pygments_lexer": "ipython2",
   "version": "2.7.10"
  }
 },
 "nbformat": 4,
 "nbformat_minor": 2
}
